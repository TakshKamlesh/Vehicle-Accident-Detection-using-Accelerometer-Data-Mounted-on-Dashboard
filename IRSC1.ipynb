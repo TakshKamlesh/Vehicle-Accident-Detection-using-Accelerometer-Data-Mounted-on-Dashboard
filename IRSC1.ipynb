{
  "nbformat": 4,
  "nbformat_minor": 0,
  "metadata": {
    "colab": {
      "name": "IRSC1",
      "provenance": []
    },
    "kernelspec": {
      "name": "python3",
      "display_name": "Python 3"
    }
  },
  "cells": [
    {
      "cell_type": "code",
      "metadata": {
        "id": "-sXhFuNnna_b",
        "colab_type": "code",
        "outputId": "cb80a4d8-02ac-4f66-a22a-a71f9be25950",
        "colab": {
          "base_uri": "https://localhost:8080/",
          "height": 122
        }
      },
      "source": [
        "from google.colab import drive\n",
        "drive.mount('/content/gdrive')"
      ],
      "execution_count": 0,
      "outputs": [
        {
          "output_type": "stream",
          "text": [
            "Go to this URL in a browser: https://accounts.google.com/o/oauth2/auth?client_id=947318989803-6bn6qk8qdgf4n4g3pfee6491hc0brc4i.apps.googleusercontent.com&redirect_uri=urn%3Aietf%3Awg%3Aoauth%3A2.0%3Aoob&scope=email%20https%3A%2F%2Fwww.googleapis.com%2Fauth%2Fdocs.test%20https%3A%2F%2Fwww.googleapis.com%2Fauth%2Fdrive%20https%3A%2F%2Fwww.googleapis.com%2Fauth%2Fdrive.photos.readonly%20https%3A%2F%2Fwww.googleapis.com%2Fauth%2Fpeopleapi.readonly&response_type=code\n",
            "\n",
            "Enter your authorization code:\n",
            "··········\n",
            "Mounted at /content/gdrive\n"
          ],
          "name": "stdout"
        }
      ]
    },
    {
      "cell_type": "code",
      "metadata": {
        "id": "bk2y2oI2nhGr",
        "colab_type": "code",
        "outputId": "5e21b071-aa27-4199-e76a-8258bf7d48a8",
        "colab": {
          "base_uri": "https://localhost:8080/",
          "height": 34
        }
      },
      "source": [
        "#IMPORT DEPENDENCIES\n",
        "\n",
        "import numpy as np\n",
        "import pandas as pd\n",
        "import matplotlib.pyplot as plt\n",
        "from keras.layers import Dense, Input, Dropout\n",
        "from keras.models import Model, Sequential\n",
        "from sklearn.model_selection import train_test_split\n",
        "from keras.optimizers import Adam\n",
        "from keras.initializers import RandomNormal\n",
        "from sklearn.utils import shuffle\n",
        "from keras.utils import np_utils"
      ],
      "execution_count": 0,
      "outputs": [
        {
          "output_type": "stream",
          "text": [
            "Using TensorFlow backend.\n"
          ],
          "name": "stderr"
        }
      ]
    },
    {
      "cell_type": "code",
      "metadata": {
        "id": "EMEtDEbAn00-",
        "colab_type": "code",
        "colab": {}
      },
      "source": [
        "#FILE PATH\n",
        "\n",
        "accident_data = 'gdrive/My Drive/IRSC/accident.xlsx'\n",
        "phone_data = 'gdrive/My Drive/IRSC/phone.xls'"
      ],
      "execution_count": 0,
      "outputs": []
    },
    {
      "cell_type": "code",
      "metadata": {
        "id": "G5eEbWCxoV8b",
        "colab_type": "code",
        "colab": {}
      },
      "source": [
        "def visualize_data():\n",
        "  \n",
        "  accdata = pd.read_excel(accident_data)\n",
        "  accdata2 = accdata.values\n",
        "  phoneData = pd.read_excel(phone_data)\n",
        "  phoneData2 = phoneData.values\n",
        "  \n",
        "  fig = plt.figure(figsize = (10,10))\n",
        "  ax1 = fig.add_subplot(1,2,1)\n",
        "  ax2 = fig.add_subplot(1,2,2)\n",
        "  \n",
        "  xA = accdata2[:,1]\n",
        "  yA = accdata2[:,2]\n",
        "  \n",
        "  xP = phoneData2[:,2]\n",
        "  yP = phoneData2[:,3]\n",
        "  \n",
        "  ax1.scatter(xA, yA, c = \"red\", s = 4)\n",
        "  ax1.scatter(xP, yP, c = \"blue\", s = 4)\n",
        "  ax1.legend(['Accident', 'Phone Falling'])\n",
        "  ax1.set_title('Plot of Individual Values')\n",
        "  \n",
        "  data_size = [xA.shape[0], xP.shape[0]]\n",
        "  names = ['accident', 'phone fall']\n",
        "  ax2.pie(data_size, labels = names)\n",
        "  ax2.set_title('Class Distribution')\n",
        "  \n",
        "  return xA, yA, xP, yP"
      ],
      "execution_count": 0,
      "outputs": []
    },
    {
      "cell_type": "code",
      "metadata": {
        "id": "B6NYhDFYpP4u",
        "colab_type": "code",
        "outputId": "efa041f7-f802-4005-cb14-422c4626417f",
        "colab": {
          "base_uri": "https://localhost:8080/",
          "height": 607
        }
      },
      "source": [
        "xA,yA,xP,yP = visualize_data()"
      ],
      "execution_count": 0,
      "outputs": [
        {
          "output_type": "display_data",
          "data": {
            "image/png": "[encoded data removed]",
            "text/plain": [
              "<Figure size 720x720 with 2 Axes>"
            ]
          },
          "metadata": {
            "tags": []
          }
        }
      ]
    },
    {
      "cell_type": "markdown",
      "metadata": {
        "id": "jjn1zT1T_xos",
        "colab_type": "text"
      },
      "source": [
        "### **DATA IS NOT LINEARLY SEPARABLE. SO WE WILL USE NEURAL NETWORKS**"
      ]
    },
    {
      "cell_type": "code",
      "metadata": {
        "id": "YDxAfiwaAVIM",
        "colab_type": "code",
        "colab": {}
      },
      "source": [
        "def preprocess_data(xA,yA,xP,yP):\n",
        "  \n",
        "  #PREPARING INPUT AND OUTPUT VALUES FOR NEURAL NETWORK\n",
        "  \n",
        "  lim = np.ceil(xP.shape[0]/2)\n",
        "  xp2 = np.reshape(xP, (xP.shape[0],1))\n",
        "  yp2 = np.reshape(yP, (yP.shape[0],1))\n",
        "  XP = np.concatenate((xp2,yp2), 1)\n",
        "  XP2 = XP[:int(lim)]\n",
        "  \n",
        "  xa2 = np.reshape(xA, (xA.shape[0],1))\n",
        "  ya2 = np.reshape(yA, (yA.shape[0],1))\n",
        "  XA = np.concatenate((xa2,ya2), 1)\n",
        "  \n",
        "  YP = np.zeros((int(lim),1))\n",
        "  YA = np.ones((XA.shape[0],1))\n",
        "  \n",
        "  X = np.concatenate((XA,XP2),0)\n",
        "  Y = np.concatenate((YA,YP))\n",
        "  \n",
        "  X, Y = shuffle(X,Y)\n",
        "  \n",
        "  Y2 = np_utils.to_categorical(Y)\n",
        "  \n",
        "  return train_test_split(X,Y2,test_size = 0.1)\n",
        "  \n",
        "  "
      ],
      "execution_count": 0,
      "outputs": []
    },
    {
      "cell_type": "code",
      "metadata": {
        "id": "LtdJ8JKV2E-1",
        "colab_type": "code",
        "colab": {}
      },
      "source": [
        "X_train,X_test,Y_train,Y_test = preprocess_data(xA,yA,xP,yP)"
      ],
      "execution_count": 0,
      "outputs": []
    },
    {
      "cell_type": "code",
      "metadata": {
        "id": "0yS5x5U5sVBV",
        "colab_type": "code",
        "colab": {}
      },
      "source": [
        "def load_model():\n",
        "  \n",
        "  model = Sequential()\n",
        "  model.add(Dense(2,input_shape = (2,)))\n",
        "  model.add(Dense(4,activation = 'relu'))\n",
        "  \n",
        "  #DROPOUT TO REDUCE CHANCES OF OVERFITTING\n",
        "  model.add(Dropout(0.2))\n",
        "  model.add(Dense(2,activation = 'softmax'))\n",
        "  \n",
        "  #BINARY CROSSENTROPY LOSS SINCE THIS IS BINARY CLASSIFICATION PROBLEM\n",
        "  \n",
        "  model.compile(loss = 'binary_crossentropy', optimizer = 'adam', metrics = ['accuracy'])\n",
        "  \n",
        "  return model"
      ],
      "execution_count": 0,
      "outputs": []
    },
    {
      "cell_type": "code",
      "metadata": {
        "id": "x_HfUymP1wfi",
        "colab_type": "code",
        "outputId": "dff452df-76bb-483c-8487-6a700a1ac4ff",
        "colab": {
          "base_uri": "https://localhost:8080/",
          "height": 1000
        }
      },
      "source": [
        "#TRAIN THE MODEL\n",
        "\n",
        "model = load_model()\n",
        "history = model.fit(X_train,Y_train,batch_size = 10, epochs = 30, validation_data = [X_test,Y_test], shuffle = True)"
      ],
      "execution_count": 0,
      "outputs": [
        {
          "output_type": "stream",
          "text": [
            "Train on 1283 samples, validate on 143 samples\n",
            "Epoch 1/30\n",
            "1283/1283 [==============================] - 0s 328us/step - loss: 0.4392 - acc: 0.7833 - val_loss: 0.3295 - val_acc: 0.9510\n",
            "Epoch 2/30\n",
            "1283/1283 [==============================] - 0s 113us/step - loss: 0.2884 - acc: 0.7942 - val_loss: 0.3265 - val_acc: 0.9510\n",
            "Epoch 3/30\n",
            "1283/1283 [==============================] - 0s 118us/step - loss: 0.2202 - acc: 0.9345 - val_loss: 0.3196 - val_acc: 0.9650\n",
            "Epoch 4/30\n",
            "1283/1283 [==============================] - 0s 117us/step - loss: 0.2071 - acc: 0.9602 - val_loss: 0.3107 - val_acc: 0.9650\n",
            "Epoch 5/30\n",
            "1283/1283 [==============================] - 0s 118us/step - loss: 0.1616 - acc: 0.9602 - val_loss: 0.3036 - val_acc: 0.9650\n",
            "Epoch 6/30\n",
            "1283/1283 [==============================] - 0s 119us/step - loss: 0.1520 - acc: 0.9626 - val_loss: 0.2988 - val_acc: 0.9650\n",
            "Epoch 7/30\n",
            "1283/1283 [==============================] - 0s 119us/step - loss: 0.1377 - acc: 0.9649 - val_loss: 0.2957 - val_acc: 0.9720\n",
            "Epoch 8/30\n",
            "1283/1283 [==============================] - 0s 115us/step - loss: 0.1317 - acc: 0.9641 - val_loss: 0.2929 - val_acc: 0.9720\n",
            "Epoch 9/30\n",
            "1283/1283 [==============================] - 0s 117us/step - loss: 0.1145 - acc: 0.9704 - val_loss: 0.2887 - val_acc: 0.9720\n",
            "Epoch 10/30\n",
            "1283/1283 [==============================] - 0s 121us/step - loss: 0.1245 - acc: 0.9680 - val_loss: 0.2865 - val_acc: 0.9720\n",
            "Epoch 11/30\n",
            "1283/1283 [==============================] - 0s 118us/step - loss: 0.1100 - acc: 0.9673 - val_loss: 0.2849 - val_acc: 0.9720\n",
            "Epoch 12/30\n",
            "1283/1283 [==============================] - 0s 122us/step - loss: 0.1019 - acc: 0.9735 - val_loss: 0.2819 - val_acc: 0.9720\n",
            "Epoch 13/30\n",
            "1283/1283 [==============================] - 0s 119us/step - loss: 0.1115 - acc: 0.9719 - val_loss: 0.2808 - val_acc: 0.9720\n",
            "Epoch 14/30\n",
            "1283/1283 [==============================] - 0s 117us/step - loss: 0.1171 - acc: 0.9673 - val_loss: 0.2793 - val_acc: 0.9720\n",
            "Epoch 15/30\n",
            "1283/1283 [==============================] - 0s 122us/step - loss: 0.1196 - acc: 0.9595 - val_loss: 0.2784 - val_acc: 0.9720\n",
            "Epoch 16/30\n",
            "1283/1283 [==============================] - 0s 116us/step - loss: 0.0987 - acc: 0.9719 - val_loss: 0.2777 - val_acc: 0.9720\n",
            "Epoch 17/30\n",
            "1283/1283 [==============================] - 0s 124us/step - loss: 0.1141 - acc: 0.9641 - val_loss: 0.2771 - val_acc: 0.9720\n",
            "Epoch 18/30\n",
            "1283/1283 [==============================] - 0s 119us/step - loss: 0.1047 - acc: 0.9680 - val_loss: 0.2752 - val_acc: 0.9720\n",
            "Epoch 19/30\n",
            "1283/1283 [==============================] - 0s 117us/step - loss: 0.1033 - acc: 0.9688 - val_loss: 0.2748 - val_acc: 0.9720\n",
            "Epoch 20/30\n",
            "1283/1283 [==============================] - 0s 119us/step - loss: 0.1050 - acc: 0.9735 - val_loss: 0.2746 - val_acc: 0.9720\n",
            "Epoch 21/30\n",
            "1283/1283 [==============================] - 0s 124us/step - loss: 0.1088 - acc: 0.9719 - val_loss: 0.2728 - val_acc: 0.9720\n",
            "Epoch 22/30\n",
            "1283/1283 [==============================] - 0s 120us/step - loss: 0.1027 - acc: 0.9735 - val_loss: 0.2724 - val_acc: 0.9720\n",
            "Epoch 23/30\n",
            "1283/1283 [==============================] - 0s 124us/step - loss: 0.1137 - acc: 0.9673 - val_loss: 0.2721 - val_acc: 0.9720\n",
            "Epoch 24/30\n",
            "1283/1283 [==============================] - 0s 120us/step - loss: 0.0984 - acc: 0.9712 - val_loss: 0.2715 - val_acc: 0.9720\n",
            "Epoch 25/30\n",
            "1283/1283 [==============================] - 0s 129us/step - loss: 0.1029 - acc: 0.9719 - val_loss: 0.2706 - val_acc: 0.9720\n",
            "Epoch 26/30\n",
            "1283/1283 [==============================] - 0s 120us/step - loss: 0.1015 - acc: 0.9696 - val_loss: 0.2707 - val_acc: 0.9720\n",
            "Epoch 27/30\n",
            "1283/1283 [==============================] - 0s 116us/step - loss: 0.1030 - acc: 0.9735 - val_loss: 0.2709 - val_acc: 0.9720\n",
            "Epoch 28/30\n",
            "1283/1283 [==============================] - 0s 118us/step - loss: 0.0950 - acc: 0.9727 - val_loss: 0.2695 - val_acc: 0.9720\n",
            "Epoch 29/30\n",
            "1283/1283 [==============================] - 0s 115us/step - loss: 0.0993 - acc: 0.9743 - val_loss: 0.2708 - val_acc: 0.9720\n",
            "Epoch 30/30\n",
            "1283/1283 [==============================] - 0s 120us/step - loss: 0.1058 - acc: 0.9704 - val_loss: 0.2699 - val_acc: 0.9720\n"
          ],
          "name": "stdout"
        }
      ]
    },
    {
      "cell_type": "code",
      "metadata": {
        "id": "AJx398YoCy54",
        "colab_type": "code",
        "colab": {}
      },
      "source": [
        "def model_performance():\n",
        "  \n",
        "  plt.plot(history.history['acc'], label='train')\n",
        "  plt.plot(history.history['val_acc'], label='test')\n",
        "\n",
        "  plt.legend()\n",
        "  plt.show()"
      ],
      "execution_count": 0,
      "outputs": []
    },
    {
      "cell_type": "code",
      "metadata": {
        "id": "ljsrz-m8NOVM",
        "colab_type": "code",
        "outputId": "0711578e-d6a5-4b6c-8ffe-534162827bbd",
        "colab": {
          "base_uri": "https://localhost:8080/",
          "height": 269
        }
      },
      "source": [
        "model_performance()"
      ],
      "execution_count": 0,
      "outputs": [
        {
          "output_type": "display_data",
          "data": {
            "image/png": "[encoded data removed]",
            "text/plain": [
              "<Figure size 432x288 with 1 Axes>"
            ]
          },
          "metadata": {
            "tags": []
          }
        }
      ]
    },
    {
      "cell_type": "code",
      "metadata": {
        "id": "uTeDevxQPhVT",
        "colab_type": "code",
        "colab": {}
      },
      "source": [
        "model.save('model.h5')"
      ],
      "execution_count": 0,
      "outputs": []
    },
    {
      "cell_type": "code",
      "metadata": {
        "id": "9lSwSRMtf88z",
        "colab_type": "code",
        "colab": {}
      },
      "source": [
        "from google.colab import files\n",
        "files.download('model.h5')"
      ],
      "execution_count": 0,
      "outputs": []
    },
    {
      "cell_type": "code",
      "metadata": {
        "id": "4Kxk37WcgsSx",
        "colab_type": "code",
        "colab": {}
      },
      "source": [
        ""
      ],
      "execution_count": 0,
      "outputs": []
    }
  ]
}